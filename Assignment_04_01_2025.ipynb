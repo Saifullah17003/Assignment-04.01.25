{
  "nbformat": 4,
  "nbformat_minor": 0,
  "metadata": {
    "colab": {
      "provenance": [],
      "authorship_tag": "ABX9TyNyAxiPD5Otur6gxD3sXrZF",
      "include_colab_link": true
    },
    "kernelspec": {
      "name": "python3",
      "display_name": "Python 3"
    },
    "language_info": {
      "name": "python"
    }
  },
  "cells": [
    {
      "cell_type": "markdown",
      "metadata": {
        "id": "view-in-github",
        "colab_type": "text"
      },
      "source": [
        "<a href=\"https://colab.research.google.com/github/Saifullah17003/Assignment-04.01.25/blob/main/Assignment_04_01_2025.ipynb\" target=\"_parent\"><img src=\"https://colab.research.google.com/assets/colab-badge.svg\" alt=\"Open In Colab\"/></a>"
      ]
    },
    {
      "cell_type": "code",
      "source": [
        "# Program to read the entire file using read() function\n",
        "file = open(\"/content/practice_file.txt\", \"r\")\n",
        "content = file.read()\n",
        "print(content)\n",
        "file.close()"
      ],
      "metadata": {
        "colab": {
          "base_uri": "https://localhost:8080/"
        },
        "id": "pBvs_6SpqeG3",
        "outputId": "c8c9752c-7c84-4f2d-90d3-2040adab1c58"
      },
      "execution_count": 8,
      "outputs": [
        {
          "output_type": "stream",
          "name": "stdout",
          "text": [
            "Django is a high-level Python web framework designed for rapid development and clean, pragmatic design. \n",
            "Created in 2005, it helps developers build robust web applications with minimal effort. \n",
            "Django follows the Model-View-Template (MVT) architecture, promoting a clear separation of concerns.\n",
            "Key features include an ORM (Object-Relational Mapping) for database interactions, built-in authentication, and tools for URL routing and form handling. \n",
            "It emphasizes security, with protections against common vulnerabilities like SQL injection and XSS.\n",
            " Django is scalable, making it suitable for both small projects and large-scale applications like Instagram. \n",
            "Its \"batteries-included\" philosophy ensures developers have all essential tools out of the box\n"
          ]
        }
      ]
    },
    {
      "cell_type": "code",
      "source": [
        "# Program to read the specific length\n",
        "# of characters in a file using read() function\n",
        "file = open(\"/content/practice_file.txt\", \"r\")\n",
        "content = file.read(20)\n",
        "print(content)\n",
        "file.close()"
      ],
      "metadata": {
        "colab": {
          "base_uri": "https://localhost:8080/"
        },
        "id": "fYCtO0Ggqj57",
        "outputId": "c14959ff-b40b-421a-e63d-40f03818d16a"
      },
      "execution_count": 9,
      "outputs": [
        {
          "output_type": "stream",
          "name": "stdout",
          "text": [
            "Django is a high-lev\n"
          ]
        }
      ]
    },
    {
      "cell_type": "code",
      "source": [
        "# Program to read single line in a file using readline() function\n",
        "file = open(\"/content/practice_file.txt\", \"r\")\n",
        "content = file.readline()\n",
        "print(content)\n",
        "file.close()"
      ],
      "metadata": {
        "colab": {
          "base_uri": "https://localhost:8080/"
        },
        "id": "AHoY0xcMyaU1",
        "outputId": "f8d97607-7963-44e2-b52f-74924ac92f4a"
      },
      "execution_count": 10,
      "outputs": [
        {
          "output_type": "stream",
          "name": "stdout",
          "text": [
            "Django is a high-level Python web framework designed for rapid development and clean, pragmatic design. \n",
            "\n"
          ]
        }
      ]
    },
    {
      "cell_type": "code",
      "source": [
        "# Program to read all lines in a list using readlines() function\n",
        "file = open(\"/content/practice_file.txt\", \"r\")\n",
        "content = file.readlines()\n",
        "print(content)\n",
        "file.close()"
      ],
      "metadata": {
        "colab": {
          "base_uri": "https://localhost:8080/"
        },
        "id": "YZs-TlD2y5OD",
        "outputId": "3e372778-6d45-46cc-89ce-bc215244b34f"
      },
      "execution_count": 11,
      "outputs": [
        {
          "output_type": "stream",
          "name": "stdout",
          "text": [
            "['Django is a high-level Python web framework designed for rapid development and clean, pragmatic design. \\n', 'Created in 2005, it helps developers build robust web applications with minimal effort. \\n', 'Django follows the Model-View-Template (MVT) architecture, promoting a clear separation of concerns.\\n', 'Key features include an ORM (Object-Relational Mapping) for database interactions, built-in authentication, and tools for URL routing and form handling. \\n', 'It emphasizes security, with protections against common vulnerabilities like SQL injection and XSS.\\n', ' Django is scalable, making it suitable for both small projects and large-scale applications like Instagram. \\n', 'Its \"batteries-included\" philosophy ensures developers have all essential tools out of the box']\n"
          ]
        }
      ]
    },
    {
      "cell_type": "code",
      "source": [],
      "metadata": {
        "id": "_hz_CYlwAIc8"
      },
      "execution_count": null,
      "outputs": []
    },
    {
      "cell_type": "code",
      "source": [
        "# Program to read all the lines in a file using readline() function\n",
        "file = open(\"/content/practice_file.txt\", \"r\")\n",
        "while True:\n",
        "\tcontent=file.readline()\n",
        "\tif not content:\n",
        "\t\tbreak\n",
        "\tprint(content)\n",
        "file.close()"
      ],
      "metadata": {
        "colab": {
          "base_uri": "https://localhost:8080/"
        },
        "id": "CvWM7eDO_X7I",
        "outputId": "a951aa3d-cfb6-46a4-95e7-92311f86d52f"
      },
      "execution_count": null,
      "outputs": [
        {
          "output_type": "stream",
          "name": "stdout",
          "text": [
            "Django is a high-level Python web framework designed for rapid development and clean, pragmatic design. \n",
            "\n",
            "Created in 2005, it helps developers build robust web applications with minimal effort. \n",
            "\n",
            "Django follows the Model-View-Template (MVT) architecture, promoting a clear separation of concerns.\n",
            "\n",
            "Key features include an ORM (Object-Relational Mapping) for database interactions, built-in authentication, and tools for URL routing and form handling. \n",
            "\n",
            "It emphasizes security, with protections against common vulnerabilities like SQL injection and XSS.\n",
            "\n",
            " Django is scalable, making it suitable for both small projects and large-scale applications like Instagram. \n",
            "\n",
            "Its \"batteries-included\" philosophy ensures developers have all essential tools out of the box\n"
          ]
        }
      ]
    }
  ]
}